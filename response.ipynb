{
 "cells": [
  {
   "cell_type": "code",
   "execution_count": 2,
   "metadata": {},
   "outputs": [],
   "source": [
    "from utils import save_responses\n",
    "import pandas as pd\n",
    "\n",
    "import json\n",
    "import os\n",
    "from utils import add_response, save_prompt\n",
    "\n",
    "dataset_json = 'dataset_1_100.json'\n",
    "prompt_json = 'prompt_1_100.json'"
   ]
  },
  {
   "cell_type": "markdown",
   "metadata": {},
   "source": [
    "As a paper-reading assistant, please read the provided paper and give a detailed description of the solution-based inorganic synthesis processes it discusses. If there are multiple syntheses, provide separate summaries for each. For multi-step syntheses, describe each step in detail. Limit your response to a maximum of 16,382 new tokens.\n",
    "\n",
    "Please structure your response **STRICTLY** using the following format. **DO NOT** include any content outside of this format, and **DO NOT** add extra headings or sub-points within the \"Steps\" section:\n",
    "\n",
    "# Target 1: *[Target Production Name]*\n",
    "\n",
    "## Overview\n",
    "\n",
    "Brief summary.\n",
    "\n",
    "## Steps\n",
    "\n",
    "- **Step 1:** Description.\n",
    "- **Step 2:** Description.\n",
    "- *Continue for all steps.*\n",
    "\n",
    "# Target 2: *[Target Production Name]*\n",
    "\n",
    "## Overview\n",
    "\n",
    "Brief summary.\n",
    "\n",
    "## Steps\n",
    "\n",
    "- **Step 1:** Description.\n",
    "- **Step 2:** Description.\n",
    "- *Continue for all steps.*\n",
    "\n",
    "*Repeat this format for each additional target production discussed in the paper.*\n",
    "\n"
   ]
  },
  {
   "cell_type": "code",
   "execution_count": 58,
   "metadata": {},
   "outputs": [
    {
     "name": "stdout",
     "output_type": "stream",
     "text": [
      "file_name                                  10.1063%2F1.4967923.pdf\n",
      "user_messages    [{'role': 'user', 'content': [{'type': 'image'...\n",
      "responses        \\n# Target 1: CoFe2O4 Hollow Nanospheres (NHS)...\n",
      "Name: 88, dtype: object\n",
      "[{'role': 'user', 'content': [{'type': 'image'}, {'type': 'image'}, {'type': 'image'}, {'type': 'image'}, {'type': 'image'}, {'type': 'image'}, {'type': 'image'}, {'type': 'image'}, {'type': 'image'}, {'type': 'text', 'text': '\\n        As a paper-reading assistant, please read the provided paper and give a detailed description of the solution-based inorganic synthesis processes it discusses. If there are multiple syntheses, provide separate summaries for each. For multi-step syntheses, describe each step in detail. Limit your response to a maximum of 16,382 new tokens.\\n\\n        Please structure your response **STRICTLY** using the following format. **DO NOT** include any content outside of this format, and **DO NOT** add extra headings or sub-points within the \"Steps\" section:\\n\\n        # Target 1: *[Target Production Name]*\\n\\n        ## Overview\\n\\n        Brief summary.\\n\\n        ## Steps\\n\\n        - **Step 1:** Description.\\n        - **Step 2:** Description.\\n        - *Continue for all steps.*\\n\\n        # Target 2: *[Target Production Name]*\\n\\n        ## Overview\\n\\n        Brief summary.\\n\\n        ## Steps\\n\\n        - **Step 1:** Description.\\n        - **Step 2:** Description.\\n        - *Continue for all steps.*\\n\\n        *Repeat this format for each additional target production discussed in the paper.*\\n    '}]}, {'role': 'assistant', 'content': [{'type': 'text', 'text': '\\n# Target 1: Zn–Sn Composite Oxide Catalyst\\n\\n## Overview\\n\\nThe paper discusses the synthesis of a Zn–Sn composite oxide catalyst used for the carbonylation of glycerol with urea to produce glycerol carbonate. This process emphasizes eco-friendliness and efficiency. The study compares three synthesis methods: coprecipitation, solid-state, and evaporation, focusing on the coprecipitation method as the most effective in terms of catalyst activity.\\n\\n## Steps\\n\\n- **Step 1:** ZnCl₂ and SnCl₄·5H₂O are dissolved in deionized water to prepare a solution with a Zn/Sn molar ratio of 2.\\n- **Step 2:** A 4 M NaOH solution is added dropwise to the metal salt solution under stirring to precipitate the hydroxides.\\n- **Step 3:** The precipitate is stirred for 3 hours at room temperature.\\n- **Step 4:** The mixture is filtered, and the precipitate is washed with deionized water to remove chlorides.\\n- **Step 5:** The washed precipitate is dried at 120°C overnight.\\n- **Step 6:** The dried material is calcined at 600°C for 4 hours under static air to yield the Zn–Sn composite oxide catalyst, specifically designated as Zn₂Sn-CoPre-600.\\n'}]}]\n"
     ]
    }
   ],
   "source": [
    "text = \"\"\"\n",
    "# Target 1: CoFe2O4 Hollow Nanospheres (NHS)\n",
    "\n",
    "## Overview\n",
    "\n",
    "CoFe2O4 hollow nanospheres were synthesized through a template-free solvothermal method, achieving controlled diameters by adjusting oleylamine amounts. The synthesis involves creating a mixture containing cobalt chloride, ferric chloride, urea, and a solvent, followed by heating in an autoclave, yielding hollow nanostructures after natural cooling and washing. The process emphasizes the roles of oleylamine and urea in controlling particle growth and morphology.\n",
    "\n",
    "## Steps\n",
    "\n",
    "- **Step 1:** Prepare a mixture of 0.721 g cobalt chloride (CoCl₂•6H₂O), 1.638 g ferric chloride (FeCl₃•6H₂O), and 1.06 g urea in 60 ml of a solvent composed of 40 ml ethylene glycol and 20 ml ethanol, stirring to achieve a homogeneous solution.\n",
    "- **Step 2:** Add 6 ml of oleylamine to the solution, acting as a growth modifier and surface stabilizer to control nanoparticle size within the nanometer range.\n",
    "- **Step 3:** Transfer the solution to an 80 ml Teflon-lined stainless steel autoclave and heat it to 180°C for 12 hours, allowing the reaction to proceed, followed by cooling to room temperature naturally.\n",
    "- **Step 4:** Isolate the resulting black precipitate by washing thoroughly with absolute ethanol to remove residual reagents, followed by centrifugation.\n",
    "- **Step 5:** Dry the product at 60°C for 2 hours, forming CoFe₂O₄ nanospheres with tailored diameters, which can be adjusted by varying the oleylamine volume.\n",
    "\"\"\"\n",
    "\n",
    "save_responses(dataset_json,text,89)\n",
    "save_prompt(prompt_json,dataset_json)"
   ]
  },
  {
   "cell_type": "code",
   "execution_count": 3,
   "metadata": {},
   "outputs": [],
   "source": [
    "df = pd.read_json(dataset_json)\n",
    "df_r = pd.read_json(prompt_json)\n",
    "\n"
   ]
  },
  {
   "cell_type": "markdown",
   "metadata": {},
   "source": []
  }
 ],
 "metadata": {
  "kernelspec": {
   "display_name": "base",
   "language": "python",
   "name": "python3"
  },
  "language_info": {
   "codemirror_mode": {
    "name": "ipython",
    "version": 3
   },
   "file_extension": ".py",
   "mimetype": "text/x-python",
   "name": "python",
   "nbconvert_exporter": "python",
   "pygments_lexer": "ipython3",
   "version": "3.10.15"
  }
 },
 "nbformat": 4,
 "nbformat_minor": 2
}
