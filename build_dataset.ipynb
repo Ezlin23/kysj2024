{
 "cells": [
  {
   "cell_type": "code",
   "execution_count": 1,
   "metadata": {},
   "outputs": [],
   "source": [
    "import pandas as pd\n",
    "\n",
    "def load_rows(a, b):\n",
    "    df = pd.read_json(\"/home/junchen/kysj/solutionsynthesis_dataset_202185.json\")\n",
    "    return df.iloc[a:b]\n",
    "\n",
    "raw_120 = load_rows(100, 120)\n",
    "#raw_120[\"completion\"] = pd.read_json(\"/home/junchen/kysj/completions_100.json\")\n",
    "\n"
   ]
  },
  {
   "cell_type": "code",
   "execution_count": null,
   "metadata": {},
   "outputs": [],
   "source": [
    "import json\n",
    "\n",
    "messages = []\n",
    "\n",
    "message_template=[\n",
    "        {\"role\": \"system\", \"content\": \"You are a helpful AI assistant in Material Science.\"},\n",
    "        {\"role\": \"user\", \"content\": \"How to synthesize {targets_string}?\"},\n",
    "        {\"role\": \"assistant\", \"content\": \"{completion}\"}\n",
    "    ],\n",
    "\n",
    "\n",
    "def create_message(row):\n",
    "    return [\n",
    "        {\"role\": \"system\", \"content\": \"You are a helpful AI assistant in Material Science.\"},\n",
    "        {\"role\": \"user\", \"content\": f\"How to synthesize {row['targets_string']}?\"},\n",
    "        {\"role\": \"assistant\", \"content\": row[\"completion\"]}\n",
    "    ]\n",
    "\n",
    "messages = raw_120.apply(create_message, axis=1).tolist()\n",
    "\n",
    "with open('messages_120_test.json', 'w') as f:\n",
    "    json.dump(messages, f, indent=4)\n"
   ]
  },
  {
   "cell_type": "code",
   "execution_count": 9,
   "metadata": {},
   "outputs": [],
   "source": [
    "import pandas as pd\n",
    "import json\n",
    "\n",
    "messages = pd.read_json(\"messages_100.json\")\n",
    "\n",
    "filtered_messages = messages.drop(columns=[2])\n",
    "\n",
    "filtered_messages_list = filtered_messages.values.tolist()\n",
    "\n",
    "with open('filtered_messages_100.json', 'w') as f:\n",
    "    json.dump(filtered_messages_list, f, indent=4)"
   ]
  },
  {
   "cell_type": "code",
   "execution_count": null,
   "metadata": {},
   "outputs": [],
   "source": []
  }
 ],
 "metadata": {
  "kernelspec": {
   "display_name": "base",
   "language": "python",
   "name": "python3"
  },
  "language_info": {
   "codemirror_mode": {
    "name": "ipython",
    "version": 3
   },
   "file_extension": ".py",
   "mimetype": "text/x-python",
   "name": "python",
   "nbconvert_exporter": "python",
   "pygments_lexer": "ipython3",
   "version": "3.10.15"
  }
 },
 "nbformat": 4,
 "nbformat_minor": 2
}
